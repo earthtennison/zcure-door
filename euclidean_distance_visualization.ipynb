{
  "nbformat": 4,
  "nbformat_minor": 0,
  "metadata": {
    "colab": {
      "name": "euclidean_distance_visualization.ipynb",
      "provenance": [],
      "authorship_tag": "ABX9TyPF+ZuBthnWcAq2kszqiY8A",
      "include_colab_link": true
    },
    "kernelspec": {
      "name": "python3",
      "display_name": "Python 3"
    },
    "language_info": {
      "name": "python"
    }
  },
  "cells": [
    {
      "cell_type": "markdown",
      "metadata": {
        "id": "view-in-github",
        "colab_type": "text"
      },
      "source": [
        "<a href=\"https://colab.research.google.com/github/earthtennison/zcure-door/blob/main/euclidean_distance_visualization.ipynb\" target=\"_parent\"><img src=\"https://colab.research.google.com/assets/colab-badge.svg\" alt=\"Open In Colab\"/></a>"
      ]
    },
    {
      "cell_type": "code",
      "metadata": {
        "colab": {
          "base_uri": "https://localhost:8080/"
        },
        "id": "Z7iQVdhSZcle",
        "outputId": "b7a2c4f6-dabe-4810-b3cf-bc6d323f5caa"
      },
      "source": [
        "from google.colab import drive\n",
        "drive.mount('/gdrive')\n"
      ],
      "execution_count": null,
      "outputs": [
        {
          "output_type": "stream",
          "text": [
            "Mounted at /gdrive\n"
          ],
          "name": "stdout"
        }
      ]
    },
    {
      "cell_type": "code",
      "metadata": {
        "id": "x20KoXmBZo11"
      },
      "source": [
        "import pickle\n",
        "import numpy as np\n",
        "import matplotlib.pyplot as plt\n"
      ],
      "execution_count": null,
      "outputs": []
    },
    {
      "cell_type": "code",
      "metadata": {
        "id": "nGDpoFZVZqKM"
      },
      "source": [
        "\n",
        "\n",
        "pickle_file = open(\"/gdrive/MyDrive/distance_100.pkl\", \"rb\")\n",
        "objects = []\n",
        "while True:\n",
        "    try:\n",
        "        objects.append(pickle.load(pickle_file))\n",
        "    except EOFError:\n",
        "        break\n",
        "pickle_file.close()"
      ],
      "execution_count": null,
      "outputs": []
    },
    {
      "cell_type": "code",
      "metadata": {
        "colab": {
          "base_uri": "https://localhost:8080/"
        },
        "id": "SgAA8V3hZ6Bg",
        "outputId": "6947e04c-c4e0-449b-ca89-367d0ced1e60"
      },
      "source": [
        "arr = np.asarray(objects)\n",
        "arr=np.squeeze(arr)\n",
        "print(arr.shape)\n",
        "arr\n"
      ],
      "execution_count": null,
      "outputs": [
        {
          "output_type": "stream",
          "text": [
            "(72, 98)\n"
          ],
          "name": "stdout"
        },
        {
          "output_type": "execute_result",
          "data": {
            "text/plain": [
              "array([[ 71.316414, 105.636604, 112.8258  , ..., 119.7504  , 116.81843 ,\n",
              "        126.34933 ],\n",
              "       [103.02047 ,  50.07955 , 111.03001 , ..., 110.48653 , 112.876366,\n",
              "        122.738464],\n",
              "       [111.6021  , 122.27076 , 104.32199 , ..., 100.63197 ,  97.95291 ,\n",
              "        109.83254 ],\n",
              "       ...,\n",
              "       [112.21945 , 119.816895,  99.41295 , ..., 106.61556 , 102.429214,\n",
              "        102.66451 ],\n",
              "       [117.01527 , 121.97504 , 109.06024 , ...,  56.62686 , 107.499916,\n",
              "        117.77041 ],\n",
              "       [107.9175  , 116.83113 ,  97.329346, ...,  93.722404,  68.694984,\n",
              "        115.1194  ]], dtype=float32)"
            ]
          },
          "metadata": {
            "tags": []
          },
          "execution_count": 51
        }
      ]
    },
    {
      "cell_type": "code",
      "metadata": {
        "colab": {
          "base_uri": "https://localhost:8080/"
        },
        "id": "6sirgMYvahAe",
        "outputId": "91ddb21d-b4f3-42af-e2a2-d5f1b5438967"
      },
      "source": [
        "min_distance = np.asarray([np.min(r) for r in arr])\n",
        "min_distance"
      ],
      "execution_count": null,
      "outputs": [
        {
          "output_type": "execute_result",
          "data": {
            "text/plain": [
              "array([71.316414, 50.07955 , 45.38453 , 64.10496 , 73.78868 , 60.388115,\n",
              "       69.59709 , 56.588985, 68.76392 , 71.84343 , 55.792038, 74.06983 ,\n",
              "       50.167915, 55.591995, 79.2612  , 49.36796 , 81.47916 , 35.02405 ,\n",
              "       53.619175, 75.432915, 58.606106, 74.7573  , 62.7691  , 57.510567,\n",
              "       56.077053, 40.129593, 68.708694, 59.945236, 82.537056, 65.24509 ,\n",
              "       61.665726, 73.18101 , 78.062874, 54.54859 , 73.68423 , 79.39318 ,\n",
              "       70.76861 , 44.069767, 54.54259 , 61.629456, 50.76242 , 66.50178 ,\n",
              "       40.388863, 60.057495, 60.780552, 79.445946, 74.43015 , 80.91649 ,\n",
              "       72.71756 , 84.09324 , 35.411873, 64.33999 , 73.41898 , 67.73595 ,\n",
              "       74.09964 , 63.981186, 50.818005, 72.9446  , 64.345566, 82.24169 ,\n",
              "       61.71571 , 63.70412 , 80.16049 , 76.25954 , 48.332836, 62.988144,\n",
              "       45.999866, 97.152756, 60.325222, 41.19162 , 56.62686 , 68.694984],\n",
              "      dtype=float32)"
            ]
          },
          "metadata": {
            "tags": []
          },
          "execution_count": 29
        }
      ]
    },
    {
      "cell_type": "code",
      "metadata": {
        "colab": {
          "base_uri": "https://localhost:8080/"
        },
        "id": "Uqwd-UtjcYQo",
        "outputId": "2cf464d6-2771-40c2-e201-d0b265a1c399"
      },
      "source": [
        "min_index = np.asarray([np.argmin(r) for r in arr])\n",
        "print(min_index.shape)\n",
        "min_index = [(i,min_index[i]) for i in range (len(min_index))]\n",
        "min_index"
      ],
      "execution_count": null,
      "outputs": [
        {
          "output_type": "stream",
          "text": [
            "(72,)\n"
          ],
          "name": "stdout"
        },
        {
          "output_type": "execute_result",
          "data": {
            "text/plain": [
              "[(0, 0),\n",
              " (1, 1),\n",
              " (2, 3),\n",
              " (3, 4),\n",
              " (4, 5),\n",
              " (5, 6),\n",
              " (6, 8),\n",
              " (7, 9),\n",
              " (8, 10),\n",
              " (9, 12),\n",
              " (10, 13),\n",
              " (11, 15),\n",
              " (12, 16),\n",
              " (13, 17),\n",
              " (14, 18),\n",
              " (15, 20),\n",
              " (16, 23),\n",
              " (17, 24),\n",
              " (18, 25),\n",
              " (19, 26),\n",
              " (20, 28),\n",
              " (21, 29),\n",
              " (22, 31),\n",
              " (23, 32),\n",
              " (24, 33),\n",
              " (25, 36),\n",
              " (26, 37),\n",
              " (27, 39),\n",
              " (28, 40),\n",
              " (29, 41),\n",
              " (30, 42),\n",
              " (31, 43),\n",
              " (32, 45),\n",
              " (33, 46),\n",
              " (34, 47),\n",
              " (35, 48),\n",
              " (36, 50),\n",
              " (37, 51),\n",
              " (38, 52),\n",
              " (39, 53),\n",
              " (40, 54),\n",
              " (41, 55),\n",
              " (42, 57),\n",
              " (43, 58),\n",
              " (44, 60),\n",
              " (45, 62),\n",
              " (46, 63),\n",
              " (47, 64),\n",
              " (48, 66),\n",
              " (49, 67),\n",
              " (50, 68),\n",
              " (51, 69),\n",
              " (52, 70),\n",
              " (53, 72),\n",
              " (54, 73),\n",
              " (55, 75),\n",
              " (56, 76),\n",
              " (57, 77),\n",
              " (58, 78),\n",
              " (59, 80),\n",
              " (60, 81),\n",
              " (61, 83),\n",
              " (62, 84),\n",
              " (63, 85),\n",
              " (64, 87),\n",
              " (65, 90),\n",
              " (66, 91),\n",
              " (67, 92),\n",
              " (68, 93),\n",
              " (69, 94),\n",
              " (70, 95),\n",
              " (71, 96)]"
            ]
          },
          "metadata": {
            "tags": []
          },
          "execution_count": 39
        }
      ]
    },
    {
      "cell_type": "code",
      "metadata": {
        "id": "KeIiWzHcezkT"
      },
      "source": [
        "idxs = [i*arr.shape[1]+j for i, j in min_index]\n",
        "wrong_distance = np.delete(arr,idxs).reshape(72,97)"
      ],
      "execution_count": null,
      "outputs": []
    },
    {
      "cell_type": "code",
      "metadata": {
        "colab": {
          "base_uri": "https://localhost:8080/"
        },
        "id": "iao8SbD_cpyQ",
        "outputId": "7c6cbe98-01cd-4411-97fd-3ce4e4a014c3"
      },
      "source": [
        "\n",
        "wrong_distance.shape"
      ],
      "execution_count": null,
      "outputs": [
        {
          "output_type": "execute_result",
          "data": {
            "text/plain": [
              "(72, 97)"
            ]
          },
          "metadata": {
            "tags": []
          },
          "execution_count": 42
        }
      ]
    },
    {
      "cell_type": "code",
      "metadata": {
        "colab": {
          "base_uri": "https://localhost:8080/"
        },
        "id": "GsHgGKuEfB_H",
        "outputId": "be924648-e214-4f89-e620-a6cdf7badc26"
      },
      "source": [
        "mean_wrong_distance = wrong_distance.flatten()\n",
        "mean_wrong_distance = np.random.choice(mean_wrong_distance,72,replace=False)\n",
        "mean_wrong_distance.shape"
      ],
      "execution_count": null,
      "outputs": [
        {
          "output_type": "execute_result",
          "data": {
            "text/plain": [
              "(72,)"
            ]
          },
          "metadata": {
            "tags": []
          },
          "execution_count": 56
        }
      ]
    },
    {
      "cell_type": "code",
      "metadata": {
        "colab": {
          "base_uri": "https://localhost:8080/",
          "height": 268
        },
        "id": "7bGkQm-rh5HP",
        "outputId": "23f280f5-9172-40a1-8607-42190c2261df"
      },
      "source": [
        "plt.hist(wrong_distance.flatten(),bins=20,label='wrong')\n",
        "plt.legend()\n",
        "plt.show()"
      ],
      "execution_count": null,
      "outputs": [
        {
          "output_type": "display_data",
          "data": {
            "image/png": "[encoded data removed]",
            "text/plain": [
              "<Figure size 432x288 with 1 Axes>"
            ]
          },
          "metadata": {
            "tags": [],
            "needs_background": "light"
          }
        }
      ]
    },
    {
      "cell_type": "code",
      "metadata": {
        "colab": {
          "base_uri": "https://localhost:8080/",
          "height": 265
        },
        "id": "6gPxnPwqiLMB",
        "outputId": "966c372c-753c-4355-9a3d-2323b7980d0d"
      },
      "source": [
        "plt.hist(min_distance,bins=20,label='right',color='orange')\n",
        "plt.legend()\n",
        "plt.show()"
      ],
      "execution_count": null,
      "outputs": [
        {
          "output_type": "display_data",
          "data": {
            "image/png": "[encoded data removed]",
            "text/plain": [
              "<Figure size 432x288 with 1 Axes>"
            ]
          },
          "metadata": {
            "tags": [],
            "needs_background": "light"
          }
        }
      ]
    },
    {
      "cell_type": "code",
      "metadata": {
        "colab": {
          "base_uri": "https://localhost:8080/",
          "height": 316
        },
        "id": "etEKjm5HfJey",
        "outputId": "56ed5eaa-dbde-4108-c7f4-be85db78cc1c"
      },
      "source": [
        "plt.hist(mean_wrong_distance,bins=20,label='wrong')\n",
        "plt.hist(min_distance,bins=20,label='right')\n",
        "plt.legend(loc='upper right')\n",
        "plt.show()\n",
        "print(\"mean wrong: \"+str(np.mean(mean_wrong_distance)))\n",
        "print(\"mean right: \"+str(np.mean(min_distance)))\n",
        "print(\"threshold: \"+str((np.mean(mean_wrong_distance)+np.mean(min_distance))/2))"
      ],
      "execution_count": null,
      "outputs": [
        {
          "output_type": "display_data",
          "data": {
            "image/png": "[encoded data removed]",
            "text/plain": [
              "<Figure size 432x288 with 1 Axes>"
            ]
          },
          "metadata": {
            "tags": [],
            "needs_background": "light"
          }
        },
        {
          "output_type": "stream",
          "text": [
            "mean wrong: 104.62975\n",
            "mean right: 63.91775\n",
            "threshold: 84.27375030517578\n"
          ],
          "name": "stdout"
        }
      ]
    },
    {
      "cell_type": "code",
      "metadata": {
        "colab": {
          "base_uri": "https://localhost:8080/",
          "height": 282
        },
        "id": "ZD3WtI-_bVTl",
        "outputId": "baf011c4-1ce2-4775-f6de-0c8c88f30f5b"
      },
      "source": [
        "plt.hist(min_distance,bins=20)\n",
        "plt.show()\n",
        "print(np.mean(min_distance))"
      ],
      "execution_count": null,
      "outputs": [
        {
          "output_type": "display_data",
          "data": {
            "image/png": "[encoded data removed]",
            "text/plain": [
              "<Figure size 432x288 with 1 Axes>"
            ]
          },
          "metadata": {
            "tags": [],
            "needs_background": "light"
          }
        },
        {
          "output_type": "stream",
          "text": [
            "63.91775\n"
          ],
          "name": "stdout"
        }
      ]
    }
  ]
}